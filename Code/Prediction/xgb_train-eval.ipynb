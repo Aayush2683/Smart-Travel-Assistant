{
 "cells": [
  {
   "cell_type": "code",
   "execution_count": 9,
   "id": "5af785a3",
   "metadata": {},
   "outputs": [],
   "source": [
    "from pathlib import Path\n",
    "import warnings, json, joblib, optuna, xgboost as xgb\n",
    "warnings.filterwarnings(\"ignore\", category=FutureWarning)\n",
    "\n",
    "import pandas as pd, numpy as np\n",
    "from sklearn.model_selection import train_test_split\n",
    "from sklearn.compose import ColumnTransformer\n",
    "from sklearn.pipeline import Pipeline\n",
    "from sklearn.preprocessing import OneHotEncoder, StandardScaler\n",
    "from sklearn.metrics import r2_score, mean_absolute_error\n",
    "from tqdm.auto import tqdm\n",
    "from datetime import datetime"
   ]
  },
  {
   "cell_type": "code",
   "execution_count": 10,
   "id": "73b37504",
   "metadata": {},
   "outputs": [],
   "source": [
    "DATA_DIR  = Path(\"/Users/aayush2683/Projects/Solvus AI Intern/Data/ML Data\")\n",
    "MODEL_DIR = Path(\"/Users/aayush2683/Projects/Solvus AI Intern/Prediction/Models\")\n",
    "MODEL_DIR.mkdir(parents=True, exist_ok=True)"
   ]
  },
  {
   "cell_type": "code",
   "execution_count": 11,
   "id": "8421c093",
   "metadata": {},
   "outputs": [],
   "source": [
    "df = pd.read_pickle(DATA_DIR / \"train_features.pkl\")\n",
    "y_raw = df.pop(\"Price\")\n",
    "df    = df.drop(columns=[\"RowID\"])\n",
    "\n",
    "cat_cols = [\"Airline\",\"Source\",\"Destination\",\"Additional_Info\"]\n",
    "num_cols = [c for c in df.columns if c not in cat_cols]\n",
    "\n",
    "pre = ColumnTransformer(\n",
    "    [(\"cat\", OneHotEncoder(handle_unknown=\"ignore\"), cat_cols),\n",
    "     (\"num\", StandardScaler(),                        num_cols)]\n",
    ")"
   ]
  },
  {
   "cell_type": "code",
   "execution_count": 12,
   "id": "20542fde",
   "metadata": {},
   "outputs": [],
   "source": [
    "def safe_split(X, y, strat, seed=42):\n",
    "    if strat.value_counts().min() >= 2:\n",
    "        return train_test_split(X, y, test_size=0.2,\n",
    "                                random_state=seed, stratify=strat)\n",
    "    return train_test_split(X, y, test_size=0.2, random_state=seed)\n",
    "\n",
    "X_tr, X_val, y_tr, y_val = safe_split(df, y_raw, strat=df[\"Airline\"])"
   ]
  },
  {
   "cell_type": "code",
   "execution_count": 13,
   "id": "a2554f1b",
   "metadata": {},
   "outputs": [
    {
     "data": {
      "application/vnd.jupyter.widget-view+json": {
       "model_id": "8dc013fcf60e4dec976bab66fa1accef",
       "version_major": 2,
       "version_minor": 0
      },
      "text/plain": [
       "Optuna tuning:   0%|                                    | 0/100 [00:00<?, ?it/s]"
      ]
     },
     "metadata": {},
     "output_type": "display_data"
    },
    {
     "name": "stdout",
     "output_type": "stream",
     "text": [
      "🏆  Best params: {'n_estimators': 1430, 'learning_rate': 0.05249726204105458, 'max_depth': 7, 'subsample': 0.9635178567146764, 'colsample_bytree': 0.6464568339269249, 'min_child_weight': 2, 'gamma': 3.5958136431836976, 'reg_lambda': 5.845374141273329}\n"
     ]
    }
   ],
   "source": [
    "# ── Optuna objective: maximise R² on hold-out -------------------\n",
    "def objective(trial):\n",
    "    params = {\n",
    "        \"n_estimators\":      trial.suggest_int(\"n_estimators\", 600, 2000),\n",
    "        \"learning_rate\":     trial.suggest_float(\"learning_rate\", 0.01, 0.3, log=True),\n",
    "        \"max_depth\":         trial.suggest_int(\"max_depth\", 4, 12),\n",
    "        \"subsample\":         trial.suggest_float(\"subsample\", 0.6, 1.0),\n",
    "        \"colsample_bytree\":  trial.suggest_float(\"colsample_bytree\", 0.6, 1.0),\n",
    "        \"min_child_weight\":  trial.suggest_int(\"min_child_weight\", 1, 10),\n",
    "        \"gamma\":             trial.suggest_float(\"gamma\", 0.0, 5.0),\n",
    "        \"reg_lambda\":        trial.suggest_float(\"reg_lambda\", 0.1, 10.0, log=True),\n",
    "        \"random_state\":      42,\n",
    "        \"n_jobs\":            -1,\n",
    "        \"tree_method\":       \"hist\",\n",
    "    }\n",
    "    model = Pipeline([\n",
    "        (\"prep\", pre),\n",
    "        (\"xgb\",  xgb.XGBRegressor(**params))\n",
    "    ])\n",
    "    model.fit(X_tr, y_tr)\n",
    "    pred = model.predict(X_val)\n",
    "    return r2_score(y_val, pred)  # Optuna will maximise this\n",
    "\n",
    "N_TRIALS = 100\n",
    "optuna.logging.set_verbosity(optuna.logging.WARNING)\n",
    "pbar = tqdm(total=N_TRIALS, desc=\"Optuna tuning\", ncols=80)\n",
    "\n",
    "def cb(study, trial):\n",
    "    pbar.set_postfix(best=f\"{study.best_value:.3f}\")\n",
    "    pbar.update(1)\n",
    "\n",
    "study = optuna.create_study(direction=\"maximize\")\n",
    "study.optimize(objective, n_trials=N_TRIALS, callbacks=[cb])\n",
    "pbar.close()\n",
    "\n",
    "best = study.best_params\n",
    "print(\"🏆  Best params:\", best)"
   ]
  },
  {
   "cell_type": "code",
   "execution_count": 14,
   "id": "dd929160",
   "metadata": {},
   "outputs": [
    {
     "name": "stdout",
     "output_type": "stream",
     "text": [
      "🔧  Training best model on 80 % split …\n"
     ]
    },
    {
     "data": {
      "application/vnd.jupyter.widget-view+json": {
       "model_id": "569b0e20d03042c6877f1960f4b03798",
       "version_major": 2,
       "version_minor": 0
      },
      "text/plain": [
       "Fit 80 %:   0%|                                      | 0/1430 [00:00<?, ?tree/s]"
      ]
     },
     "metadata": {},
     "output_type": "display_data"
    },
    {
     "name": "stdout",
     "output_type": "stream",
     "text": [
      "Hold-out  R²=0.919  MAE=₹674\n"
     ]
    }
   ],
   "source": [
    "def make_pipe(title):\n",
    "    reg = xgb.XGBRegressor(**best, callbacks=[Bar(best[\"n_estimators\"], title)])\n",
    "    return Pipeline([(\"prep\", pre), (\"xgb\", reg)])\n",
    "\n",
    "class Bar(xgb.callback.TrainingCallback):\n",
    "    def __init__(self, total, title):\n",
    "        self.total, self.title = total, title; self.pbar = None\n",
    "    def after_iteration(self, model, epoch, ev):\n",
    "        if self.pbar is None:\n",
    "            self.pbar = tqdm(total=self.total, desc=self.title,\n",
    "                             unit=\"tree\", leave=False, ncols=80)\n",
    "        self.pbar.update(1); return False\n",
    "    def after_training(self, model):\n",
    "        if self.pbar: self.pbar.close(); return model\n",
    "\n",
    "print(\"🔧  Training best model on 80 % split …\")\n",
    "pipe = make_pipe(\"Fit 80 %\")\n",
    "pipe.fit(X_tr, y_tr)\n",
    "pipe.named_steps[\"xgb\"].callbacks.clear()\n",
    "\n",
    "val_pred = pipe.predict(X_val)\n",
    "r2   = r2_score (y_val, val_pred)\n",
    "mae  = mean_absolute_error(y_val, val_pred)\n",
    "print(f\"Hold-out  R²={r2:.3f}  MAE=₹{mae:,.0f}\")"
   ]
  },
  {
   "cell_type": "code",
   "execution_count": 15,
   "id": "24d56592",
   "metadata": {},
   "outputs": [
    {
     "name": "stdout",
     "output_type": "stream",
     "text": [
      "Re-training on 100 % …\n"
     ]
    },
    {
     "data": {
      "application/vnd.jupyter.widget-view+json": {
       "model_id": "a9dfe0a3325f4ac1b93467e4d49a1b5d",
       "version_major": 2,
       "version_minor": 0
      },
      "text/plain": [
       "Full fit:   0%|                                      | 0/1430 [00:00<?, ?tree/s]"
      ]
     },
     "metadata": {},
     "output_type": "display_data"
    }
   ],
   "source": [
    "print(\"Re-training on 100 % …\")\n",
    "pipe_full = make_pipe(\"Full fit\")\n",
    "pipe_full.fit(df, y_raw)\n",
    "pipe_full.named_steps[\"xgb\"].callbacks.clear()"
   ]
  },
  {
   "cell_type": "code",
   "execution_count": 16,
   "id": "cd133db0",
   "metadata": {},
   "outputs": [
    {
     "name": "stdout",
     "output_type": "stream",
     "text": [
      "Model & metrics saved → /Users/aayush2683/Projects/Solvus AI Intern/Prediction/Models\n"
     ]
    }
   ],
   "source": [
    "joblib.dump(pipe_full, MODEL_DIR/\"flight_price_xgb.joblib\")\n",
    "json.dump(\n",
    "    {\"r2_val\":float(r2),\"mae_val\":float(mae),\n",
    "     \"best_params\":best,\"trained\":datetime.now().isoformat()},\n",
    "    open(MODEL_DIR/\"metrics.json\",\"w\"), indent=2\n",
    ")\n",
    "print(\"Model & metrics saved →\", MODEL_DIR)"
   ]
  }
 ],
 "metadata": {
  "kernelspec": {
   "display_name": "Python 3",
   "language": "python",
   "name": "python3"
  },
  "language_info": {
   "codemirror_mode": {
    "name": "ipython",
    "version": 3
   },
   "file_extension": ".py",
   "mimetype": "text/x-python",
   "name": "python",
   "nbconvert_exporter": "python",
   "pygments_lexer": "ipython3",
   "version": "3.12.3"
  }
 },
 "nbformat": 4,
 "nbformat_minor": 5
}
